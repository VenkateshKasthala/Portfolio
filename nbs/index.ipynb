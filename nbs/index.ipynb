{
 "cells": [
  {
   "cell_type": "code",
   "execution_count": null,
   "metadata": {},
   "outputs": [],
   "source": [
    "#| hide\n",
    "from Portfolio.core import *"
   ]
  },
  {
   "cell_type": "markdown",
   "metadata": {},
   "source": [
    "# Welcome\n",
    "\n",
    "> Hi, this is Venkatesh Kasthala. Welcome to my personal portfolio. In this repository, want to demonstrate my skills, projects and to keep track of my progression in Data Analytics and Data Science topics."
   ]
  },
  {
   "cell_type": "markdown",
   "metadata": {},
   "source": [
    ">Experienced Data Analytics Professional with 4 years of experience"
   ]
  },
  {
   "cell_type": "code",
   "execution_count": null,
   "metadata": {},
   "outputs": [],
   "source": []
  }
 ],
 "metadata": {
  "kernelspec": {
   "display_name": "python3",
   "language": "python",
   "name": "python3"
  }
 },
 "nbformat": 4,
 "nbformat_minor": 4
}
