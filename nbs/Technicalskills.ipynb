{
 "cells": [
  {
   "cell_type": "markdown",
   "metadata": {},
   "source": [
    "Technical Skills"
   ]
  },
  {
   "cell_type": "markdown",
   "metadata": {},
   "source": [
    "Programming Languages : Python, SQL, R, PL/SQL"
   ]
  },
  {
   "cell_type": "markdown",
   "metadata": {},
   "source": [
    "Data Management : SQL, Hive, Snowflake, Presto, AWS S3, Azure"
   ]
  },
  {
   "cell_type": "markdown",
   "metadata": {},
   "source": [
    "Data Visualization : Tableau, Power BI, Cognos, Streamlit, Plotly"
   ]
  },
  {
   "cell_type": "markdown",
   "metadata": {},
   "source": [
    "Cloud Services : AWS - EC2, RDS, S3, Lambda, Step Functions and Glue"
   ]
  },
  {
   "cell_type": "markdown",
   "metadata": {},
   "source": [
    "Methodologies : Agile, Lean, Six Sigma, Data Lifecycle"
   ]
  }
 ],
 "metadata": {
  "language_info": {
   "name": "python"
  }
 },
 "nbformat": 4,
 "nbformat_minor": 2
}
