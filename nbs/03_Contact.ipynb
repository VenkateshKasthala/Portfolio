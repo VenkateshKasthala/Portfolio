{
 "cells": [
  {
   "cell_type": "markdown",
   "metadata": {},
   "source": [
    "## Contact Me\n",
    "\n",
    "1. email - vkastala38@gmail.com\n",
    "2. mobile - +1 (201) 241-2979"
   ]
  }
 ],
 "metadata": {
  "language_info": {
   "name": "python"
  }
 },
 "nbformat": 4,
 "nbformat_minor": 2
}
