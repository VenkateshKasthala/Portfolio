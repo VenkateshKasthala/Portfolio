{
 "cells": [
  {
   "cell_type": "markdown",
   "metadata": {},
   "source": [
    "## About Me"
   ]
  },
  {
   "cell_type": "markdown",
   "metadata": {},
   "source": [
    "Hi, I’m Venkatesh Kastala, a Data Analytics professional with over 4 years of experience in transforming data into actionable insights. Proficient in Python, SQL, Tableau, and Power BI.I excel at leveraging cloud platforms (AWS, Azure) and Agile/DevOps methodologies to deliver impactful results."
   ]
  },
  {
   "cell_type": "markdown",
   "metadata": {},
   "source": [
    "I am passionate about using data to solve real-world problems and am always eager to embrace new technologies to stay at the forefront of the industry."
   ]
  },
  {
   "cell_type": "markdown",
   "metadata": {},
   "source": [
    "Holding a Master's in Computer and Information Systems Security from Rowan University, I possess a strong foundation in data governance and cloud computing. I'm eager to collaborate on projects that leverage data to solve real-world challenges."
   ]
  },
  {
   "cell_type": "markdown",
   "metadata": {},
   "source": [
    "Outside of work, I enjoy hiking, exploring new technologies, and indulging in a good book."
   ]
  },
  {
   "cell_type": "code",
   "execution_count": null,
   "metadata": {},
   "outputs": [],
   "source": []
  }
 ],
 "metadata": {
  "kernelspec": {
   "display_name": "python3",
   "language": "python",
   "name": "python3"
  }
 },
 "nbformat": 4,
 "nbformat_minor": 4
}
