{
 "cells": [
  {
   "cell_type": "markdown",
   "metadata": {},
   "source": [
    "## SkillSet"
   ]
  },
  {
   "cell_type": "markdown",
   "metadata": {},
   "source": [
    "### Technical Skills\n",
    "- Programming Languages : Python, SQL, R, PL/SQL\n",
    "- Data Management : SQL, Hive, Snowflake, Presto, AWS S3, Azure\n",
    "- Data Visualization : Tableau, Power BI, Cognos, Streamlit, Plotly\n",
    "- Cloud Services : AWS - EC2, RDS, S3, Lambda, Step Functions and Glue\n",
    "- Methodologies : Agile, Lean, Six Sigma, Data Lifecycle"
   ]
  }
 ],
 "metadata": {
  "kernelspec": {
   "display_name": "python3",
   "language": "python",
   "name": "python3"
  },
  "language_info": {
   "name": "python",
   "version": "3.12.2"
  }
 },
 "nbformat": 4,
 "nbformat_minor": 2
}
