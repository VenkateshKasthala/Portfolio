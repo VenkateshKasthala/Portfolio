{
 "cells": [
  {
   "cell_type": "markdown",
   "metadata": {},
   "source": [
    "## SkillSet"
   ]
  },
  {
   "cell_type": "markdown",
   "metadata": {},
   "source": [
    "### Technical Skills\n",
    "- Programming Languages : Python, SQL, R, PL/SQL\n",
    "- Data Management : SQL, Hive, Snowflake, Presto, AWS S3, Azure\n",
    "- Data Visualization : Tableau, Power BI, Cognos, Streamlit, Plotly\n",
    "- Cloud Services : AWS - EC2, RDS, S3, Lambda, Step Functions and Glue\n",
    "- Methodologies : Agile, Lean, Six Sigma, Data Lifecycle"
   ]
  }
 ],
 "metadata": {
  "kernelspec": {
   "display_name": "Python 3",
   "language": "python",
   "name": "python3"
  },
  "language_info": {
   "codemirror_mode": {
    "name": "ipython",
    "version": 3
   },
   "file_extension": ".py",
   "mimetype": "text/x-python",
   "name": "python",
   "nbconvert_exporter": "python",
   "pygments_lexer": "ipython3",
   "version": "3.12.2"
  }
 },
 "nbformat": 4,
 "nbformat_minor": 2
}
